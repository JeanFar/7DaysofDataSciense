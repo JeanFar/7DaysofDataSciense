{
 "cells": [
  {
   "cell_type": "code",
   "execution_count": 99,
   "id": "51e3c0b0",
   "metadata": {},
   "outputs": [],
   "source": [
    "# walker= pyg.walk(planilha_completa_concat)"
   ]
  },
  {
   "cell_type": "code",
   "execution_count": null,
   "id": "44d5b8d5",
   "metadata": {},
   "outputs": [],
   "source": [
    "#  Hoje, você irá começar a manipulá-los, ou seja, tirar o que não for necessário, agrupar dados, atribuir novas informações, etc.\n",
    "# Claro, os dados precisam fazer sentido e estar preparados para o contexto da análise a ser realizada. \n",
    "# Por isso, a “limpeza” dos dados é uma parte essencial em um projeto de ciência de dados.\n",
    "\n",
    "# Você irá iniciar a limpeza e atribuir mais contexto aos seus dados para depois aprofundar-se nas análises.\n",
    "\n",
    "# A Ciência de Dados é uma área interdisciplinar que abrange programação, matemática/estatística e conhecimento do negócio. \n",
    "# Seu objetivo é extrair de dados, informações úteis que agregam valor e resolvem problemas.\n",
    "# Entender o negócio é fundamental para que não se tenha análises sem explicações ou mesmo sem o foco necessário \n",
    "# para a resolução dos problemas."
   ]
  },
  {
   "cell_type": "code",
   "execution_count": 2,
   "id": "152c69d0",
   "metadata": {},
   "outputs": [],
   "source": [
    "import pandas as pd\n",
    "import pygwalker as pyg"
   ]
  },
  {
   "cell_type": "code",
   "execution_count": 3,
   "id": "19ec506f",
   "metadata": {},
   "outputs": [],
   "source": [
    "emp2010_1= pd.read_csv('../Planilhas/emprestimos-20101.csv')\n",
    "emp2010_2= pd.read_csv('../Planilhas/emprestimos-20102.csv')\n",
    "emp2011_1= pd.read_csv('../Planilhas/emprestimos-20111.csv')\n",
    "emp2011_2= pd.read_csv('../Planilhas/emprestimos-20112.csv')\n",
    "emp2012_1= pd.read_csv('../Planilhas/emprestimos-20121.csv')\n",
    "emp2012_2= pd.read_csv('../Planilhas/emprestimos-20122.csv')\n",
    "emp2013_1= pd.read_csv('../Planilhas/emprestimos-20131.csv')\n",
    "emp2013_2= pd.read_csv('../Planilhas/emprestimos-20132.csv')\n",
    "emp2014_1= pd.read_csv('../Planilhas/emprestimos-20141.csv')\n",
    "emp2014_2= pd.read_csv('../Planilhas/emprestimos-20142.csv')\n",
    "emp2015_1= pd.read_csv('../Planilhas/emprestimos-20151.csv')\n",
    "emp2015_2= pd.read_csv('../Planilhas/emprestimos-20152.csv')\n",
    "emp2016_1= pd.read_csv('../Planilhas/emprestimos-20161.csv')\n",
    "emp2016_2= pd.read_csv('../Planilhas/emprestimos-20162.csv')\n",
    "emp2017_1= pd.read_csv('../Planilhas/emprestimos-20171.csv')\n",
    "emp2017_2= pd.read_csv('../Planilhas/emprestimos-20172.csv')\n",
    "emp2018_1= pd.read_csv('../Planilhas/emprestimos-20181.csv')\n",
    "emp2018_2= pd.read_csv('../Planilhas/emprestimos-20182.csv')\n",
    "emp2019_1= pd.read_csv('../Planilhas/emprestimos-20191.csv')\n",
    "emp2019_2= pd.read_csv('../Planilhas/emprestimos-20192.csv')\n",
    "emp2020_1= pd.read_csv('../Planilhas/emprestimos-20201.csv')\n",
    "acervo= pd.read_parquet('../Planilhas/dados_exemplares.parquet')"
   ]
  },
  {
   "cell_type": "code",
   "execution_count": 4,
   "id": "8c648f4f",
   "metadata": {},
   "outputs": [
    {
     "data": {
      "text/html": [
       "<div>\n",
       "<style scoped>\n",
       "    .dataframe tbody tr th:only-of-type {\n",
       "        vertical-align: middle;\n",
       "    }\n",
       "\n",
       "    .dataframe tbody tr th {\n",
       "        vertical-align: top;\n",
       "    }\n",
       "\n",
       "    .dataframe thead th {\n",
       "        text-align: right;\n",
       "    }\n",
       "</style>\n",
       "<table border=\"1\" class=\"dataframe\">\n",
       "  <thead>\n",
       "    <tr style=\"text-align: right;\">\n",
       "      <th></th>\n",
       "      <th></th>\n",
       "      <th>id_emprestimo</th>\n",
       "      <th>codigo_barras</th>\n",
       "      <th>data_renovacao</th>\n",
       "      <th>data_emprestimo</th>\n",
       "      <th>data_devolucao</th>\n",
       "      <th>matricula_ou_siape</th>\n",
       "      <th>tipo_vinculo_usuario</th>\n",
       "    </tr>\n",
       "  </thead>\n",
       "  <tbody>\n",
       "    <tr>\n",
       "      <th rowspan=\"5\" valign=\"top\">2010.1</th>\n",
       "      <th>0</th>\n",
       "      <td>709684</td>\n",
       "      <td>L095049</td>\n",
       "      <td>NaN</td>\n",
       "      <td>2010/01/04 07:44:10.721000000</td>\n",
       "      <td>2010/01/05 16:26:12.662000000</td>\n",
       "      <td>2.008023e+09</td>\n",
       "      <td>ALUNO DE GRADUAÇÃO</td>\n",
       "    </tr>\n",
       "    <tr>\n",
       "      <th>1</th>\n",
       "      <td>709685</td>\n",
       "      <td>L167050</td>\n",
       "      <td>NaN</td>\n",
       "      <td>2010/01/04 07:44:10.750000000</td>\n",
       "      <td>2010/01/12 07:34:13.934000000</td>\n",
       "      <td>2.008023e+09</td>\n",
       "      <td>ALUNO DE GRADUAÇÃO</td>\n",
       "    </tr>\n",
       "    <tr>\n",
       "      <th>2</th>\n",
       "      <td>709686</td>\n",
       "      <td>2006017618</td>\n",
       "      <td>2010/01/26 08:07:01.738000000</td>\n",
       "      <td>2010/01/04 08:08:44.081000000</td>\n",
       "      <td>2010/02/25 07:36:25.800000000</td>\n",
       "      <td>2.008112e+09</td>\n",
       "      <td>ALUNO DE PÓS-GRADUAÇÃO</td>\n",
       "    </tr>\n",
       "    <tr>\n",
       "      <th>3</th>\n",
       "      <td>709687</td>\n",
       "      <td>L184117</td>\n",
       "      <td>2010/01/18 11:07:46.470000000</td>\n",
       "      <td>2010/01/04 08:24:21.284000000</td>\n",
       "      <td>2010/02/03 08:58:45.692000000</td>\n",
       "      <td>2.007211e+08</td>\n",
       "      <td>ALUNO DE GRADUAÇÃO</td>\n",
       "    </tr>\n",
       "    <tr>\n",
       "      <th>4</th>\n",
       "      <td>709684</td>\n",
       "      <td>L095049</td>\n",
       "      <td>NaN</td>\n",
       "      <td>2010/01/04 07:44:10.721000000</td>\n",
       "      <td>2010/01/05 16:26:12.662000000</td>\n",
       "      <td>2.008023e+09</td>\n",
       "      <td>ALUNO DE GRADUAÇÃO</td>\n",
       "    </tr>\n",
       "    <tr>\n",
       "      <th>...</th>\n",
       "      <th>...</th>\n",
       "      <td>...</td>\n",
       "      <td>...</td>\n",
       "      <td>...</td>\n",
       "      <td>...</td>\n",
       "      <td>...</td>\n",
       "      <td>...</td>\n",
       "      <td>...</td>\n",
       "    </tr>\n",
       "    <tr>\n",
       "      <th rowspan=\"5\" valign=\"top\">2020.1</th>\n",
       "      <th>26556</th>\n",
       "      <td>2989086</td>\n",
       "      <td>2008047044</td>\n",
       "      <td>NaN</td>\n",
       "      <td>2020/05/05 19:51:06.059000000</td>\n",
       "      <td>2021/05/13 14:53:31.000000000</td>\n",
       "      <td>3.067431e+06</td>\n",
       "      <td>SERVIDOR TÉCNICO-ADMINISTRATIVO</td>\n",
       "    </tr>\n",
       "    <tr>\n",
       "      <th>26557</th>\n",
       "      <td>2989087</td>\n",
       "      <td>2008047047</td>\n",
       "      <td>NaN</td>\n",
       "      <td>2020/05/05 19:51:06.135000000</td>\n",
       "      <td>2021/05/13 14:53:38.000000000</td>\n",
       "      <td>3.067431e+06</td>\n",
       "      <td>SERVIDOR TÉCNICO-ADMINISTRATIVO</td>\n",
       "    </tr>\n",
       "    <tr>\n",
       "      <th>26558</th>\n",
       "      <td>2989088</td>\n",
       "      <td>2010052905</td>\n",
       "      <td>NaN</td>\n",
       "      <td>2020/05/05 19:51:06.164000000</td>\n",
       "      <td>2021/05/13 15:01:46.000000000</td>\n",
       "      <td>3.067431e+06</td>\n",
       "      <td>SERVIDOR TÉCNICO-ADMINISTRATIVO</td>\n",
       "    </tr>\n",
       "    <tr>\n",
       "      <th>26559</th>\n",
       "      <td>2989089</td>\n",
       "      <td>2010048023</td>\n",
       "      <td>NaN</td>\n",
       "      <td>2020/06/09 11:54:02.669000000</td>\n",
       "      <td>2021/07/21 15:33:55.000000000</td>\n",
       "      <td>2.020101e+10</td>\n",
       "      <td>ALUNO DE PÓS-GRADUAÇÃO</td>\n",
       "    </tr>\n",
       "    <tr>\n",
       "      <th>26560</th>\n",
       "      <td>2989090</td>\n",
       "      <td>2013106838</td>\n",
       "      <td>NaN</td>\n",
       "      <td>2020/06/09 11:54:02.852000000</td>\n",
       "      <td>2021/07/21 15:33:45.000000000</td>\n",
       "      <td>2.020101e+10</td>\n",
       "      <td>ALUNO DE PÓS-GRADUAÇÃO</td>\n",
       "    </tr>\n",
       "  </tbody>\n",
       "</table>\n",
       "<p>2258018 rows × 7 columns</p>\n",
       "</div>"
      ],
      "text/plain": [
       "              id_emprestimo codigo_barras                 data_renovacao  \\\n",
       "2010.1 0             709684       L095049                            NaN   \n",
       "       1             709685       L167050                            NaN   \n",
       "       2             709686    2006017618  2010/01/26 08:07:01.738000000   \n",
       "       3             709687       L184117  2010/01/18 11:07:46.470000000   \n",
       "       4             709684       L095049                            NaN   \n",
       "...                     ...           ...                            ...   \n",
       "2020.1 26556        2989086    2008047044                            NaN   \n",
       "       26557        2989087    2008047047                            NaN   \n",
       "       26558        2989088    2010052905                            NaN   \n",
       "       26559        2989089    2010048023                            NaN   \n",
       "       26560        2989090    2013106838                            NaN   \n",
       "\n",
       "                            data_emprestimo                 data_devolucao  \\\n",
       "2010.1 0      2010/01/04 07:44:10.721000000  2010/01/05 16:26:12.662000000   \n",
       "       1      2010/01/04 07:44:10.750000000  2010/01/12 07:34:13.934000000   \n",
       "       2      2010/01/04 08:08:44.081000000  2010/02/25 07:36:25.800000000   \n",
       "       3      2010/01/04 08:24:21.284000000  2010/02/03 08:58:45.692000000   \n",
       "       4      2010/01/04 07:44:10.721000000  2010/01/05 16:26:12.662000000   \n",
       "...                                     ...                            ...   \n",
       "2020.1 26556  2020/05/05 19:51:06.059000000  2021/05/13 14:53:31.000000000   \n",
       "       26557  2020/05/05 19:51:06.135000000  2021/05/13 14:53:38.000000000   \n",
       "       26558  2020/05/05 19:51:06.164000000  2021/05/13 15:01:46.000000000   \n",
       "       26559  2020/06/09 11:54:02.669000000  2021/07/21 15:33:55.000000000   \n",
       "       26560  2020/06/09 11:54:02.852000000  2021/07/21 15:33:45.000000000   \n",
       "\n",
       "              matricula_ou_siape             tipo_vinculo_usuario  \n",
       "2010.1 0            2.008023e+09               ALUNO DE GRADUAÇÃO  \n",
       "       1            2.008023e+09               ALUNO DE GRADUAÇÃO  \n",
       "       2            2.008112e+09           ALUNO DE PÓS-GRADUAÇÃO  \n",
       "       3            2.007211e+08               ALUNO DE GRADUAÇÃO  \n",
       "       4            2.008023e+09               ALUNO DE GRADUAÇÃO  \n",
       "...                          ...                              ...  \n",
       "2020.1 26556        3.067431e+06  SERVIDOR TÉCNICO-ADMINISTRATIVO  \n",
       "       26557        3.067431e+06  SERVIDOR TÉCNICO-ADMINISTRATIVO  \n",
       "       26558        3.067431e+06  SERVIDOR TÉCNICO-ADMINISTRATIVO  \n",
       "       26559        2.020101e+10           ALUNO DE PÓS-GRADUAÇÃO  \n",
       "       26560        2.020101e+10           ALUNO DE PÓS-GRADUAÇÃO  \n",
       "\n",
       "[2258018 rows x 7 columns]"
      ]
     },
     "execution_count": 4,
     "metadata": {},
     "output_type": "execute_result"
    }
   ],
   "source": [
    "emprestimos_completo= [emp2010_1, emp2010_2, emp2011_1, emp2011_2, emp2012_1, \n",
    "                    emp2012_2, emp2013_1, emp2013_2, emp2014_1, emp2014_2, emp2015_1, emp2015_2, emp2016_1, emp2016_2, \n",
    "                    emp2017_1, emp2017_2, emp2018_1, emp2018_2, emp2019_1, emp2019_2, emp2020_1,]\n",
    "\n",
    "# 21 planilhas concatenadas\n",
    "\n",
    "emprestimos_complet_concat= pd.concat(emprestimos_completo, keys=['2010.1', '2010.2', '2011.1', '2011.2', '2012.1', '2012.2', '2013.1',\n",
    "                                                            '2013.2', '2014.1', '2014.2', '2015.1', '2015.2', '2016.1', '2016.2', '2017.1', '2017.2',\n",
    "                                                            '2018.1', '2018.2', '2019.1', '2019.2', '2020.1'])\n",
    "\n",
    "\n",
    "emprestimos_complet_concat"
   ]
  },
  {
   "cell_type": "code",
   "execution_count": 5,
   "id": "fc3a1229",
   "metadata": {},
   "outputs": [
    {
     "data": {
      "text/plain": [
       "id_emprestimo  codigo_barras  data_renovacao                 data_emprestimo                data_devolucao                 matricula_ou_siape  tipo_vinculo_usuario  \n",
       "709704         2006021442     2010/01/17 18:56:43.923000000  2010/01/04 09:58:46.522000000  2010/02/01 13:59:02.528000000  2.008010e+09        ALUNO DE GRADUAÇÃO        7\n",
       "709705         2009032168     2010/01/17 18:56:43.909000000  2010/01/04 09:58:46.549000000  2010/01/20 13:14:34.464000000  2.008010e+09        ALUNO DE GRADUAÇÃO        7\n",
       "709698         2009047725     2010/01/18 14:44:41.163000000  2010/01/04 09:21:19.099000000  2010/02/02 12:02:38.444000000  2.009047e+09        ALUNO DE GRADUAÇÃO        3\n",
       "709686         2006017618     2010/01/26 08:07:01.738000000  2010/01/04 08:08:44.081000000  2010/02/25 07:36:25.800000000  2.008112e+09        ALUNO DE PÓS-GRADUAÇÃO    2\n",
       "2461099        2012008348     2016/06/27 20:35:46.855000000  2016/06/14 11:20:33.254000000  2016/07/11 14:37:29.000000000  2.015022e+09        ALUNO DE GRADUAÇÃO        2\n",
       "                                                                                                                                                                        ..\n",
       "1443389        2011018954     2013/03/22 13:18:55.037000000  2013/03/07 11:21:26.480000000  2013/04/08 20:26:07.000000000  2.010046e+09        ALUNO DE GRADUAÇÃO        1\n",
       "1443390        2009056314     2013/03/21 09:28:45.689000000  2013/03/07 11:21:28.899000000  2013/04/05 18:18:00.000000000  2.011015e+09        ALUNO DE GRADUAÇÃO        1\n",
       "1443393        2012037906     2013/03/20 20:17:10.574000000  2013/03/07 11:24:19.326000000  2013/03/25 08:58:44.000000000  2.011038e+09        ALUNO DE GRADUAÇÃO        1\n",
       "1443395        2011033069     2013/04/07 01:06:51.679000000  2013/03/07 11:25:22.661000000  2013/05/07 16:19:34.000000000  2.011106e+09        ALUNO DE PÓS-GRADUAÇÃO    1\n",
       "10322328       2014070441     2018/01/15 12:26:00.697000000  2017/12/29 18:21:09.060000000  2018/01/31 18:50:25.000000000  2.014063e+09        ALUNO DE GRADUAÇÃO        1\n",
       "Length: 968028, dtype: int64"
      ]
     },
     "execution_count": 5,
     "metadata": {},
     "output_type": "execute_result"
    }
   ],
   "source": [
    "emprestimos_complet_concat.value_counts()"
   ]
  },
  {
   "cell_type": "code",
   "execution_count": 7,
   "id": "b49e7fdf",
   "metadata": {},
   "outputs": [],
   "source": [
    "emprestimos_complet_concat= emprestimos_complet_concat.drop_duplicates()\n"
   ]
  },
  {
   "cell_type": "code",
   "execution_count": null,
   "id": "86a1eb0b",
   "metadata": {},
   "outputs": [],
   "source": [
    "emprestimos_complet_concat.value_counts()"
   ]
  },
  {
   "cell_type": "code",
   "execution_count": 8,
   "id": "ee8aa619",
   "metadata": {},
   "outputs": [
    {
     "name": "stdout",
     "output_type": "stream",
     "text": [
      "                id_emprestimo codigo_barras                 data_renovacao  \\\n",
      "2010.1 0               709684       L095049                            NaN   \n",
      "       1               726965       L095049  2010/03/31 12:41:08.684000000   \n",
      "       2               709685       L167050                            NaN   \n",
      "       3               717763       L167050                            NaN   \n",
      "       4               729996       L167050  2010/03/17 09:08:26.874000000   \n",
      "...                       ...           ...                            ...   \n",
      "       2072517        2989018    2009036492                            NaN   \n",
      "       2072518        2989020    2014062640                            NaN   \n",
      "       2072519        2989032    2018003324                            NaN   \n",
      "       2072520        2989049    2006024313                            NaN   \n",
      "       2072521        2989061    2018031352                            NaN   \n",
      "\n",
      "                              data_emprestimo                 data_devolucao  \\\n",
      "2010.1 0        2010/01/04 07:44:10.721000000  2010/01/05 16:26:12.662000000   \n",
      "       1        2010/03/01 12:40:56.212000000  2010/04/30 14:42:35.366000000   \n",
      "       2        2010/01/04 07:44:10.750000000  2010/01/12 07:34:13.934000000   \n",
      "       3        2010/02/11 11:16:30.335000000  2010/03/04 08:54:32.262000000   \n",
      "       4        2010/03/04 13:36:26.599000000  2010/03/31 18:04:29.669000000   \n",
      "...                                       ...                            ...   \n",
      "       2072517  2020/03/17 19:49:10.187000000  2020/12/03 08:12:20.000000000   \n",
      "       2072518  2020/03/17 19:51:15.700000000  2021/01/07 11:16:28.000000000   \n",
      "       2072519  2020/03/17 20:00:11.416000000  2021/08/30 13:29:44.000000000   \n",
      "       2072520  2020/03/17 20:47:18.741000000                            NaN   \n",
      "       2072521  2020/03/17 21:22:22.138000000  2021/07/26 15:05:20.000000000   \n",
      "\n",
      "                matricula_ou_siape    tipo_vinculo_usuario  id_exemplar  \\\n",
      "2010.1 0              2.008023e+09      ALUNO DE GRADUAÇÃO        13259   \n",
      "       1              2.009122e+09  ALUNO DE PÓS-GRADUAÇÃO        13259   \n",
      "       2              2.008023e+09      ALUNO DE GRADUAÇÃO        70865   \n",
      "       3              2.008050e+09      ALUNO DE GRADUAÇÃO        70865   \n",
      "       4              2.007226e+08      ALUNO DE GRADUAÇÃO        70865   \n",
      "...                            ...                     ...          ...   \n",
      "       2072517        2.015011e+10      ALUNO DE GRADUAÇÃO       274820   \n",
      "       2072518        2.019004e+10      ALUNO DE GRADUAÇÃO      1157915   \n",
      "       2072519        2.019102e+10  ALUNO DE PÓS-GRADUAÇÃO      1317173   \n",
      "       2072520        2.015013e+10      ALUNO DE GRADUAÇÃO       206073   \n",
      "       2072521        2.020001e+10      ALUNO DE GRADUAÇÃO      1342535   \n",
      "\n",
      "                          colecao  \\\n",
      "2010.1 0        Acervo Circulante   \n",
      "       1        Acervo Circulante   \n",
      "       2        Acervo Circulante   \n",
      "       3        Acervo Circulante   \n",
      "       4        Acervo Circulante   \n",
      "...                           ...   \n",
      "       2072517  Acervo Circulante   \n",
      "       2072518  Acervo Circulante   \n",
      "       2072519  Acervo Circulante   \n",
      "       2072520  Acervo Circulante   \n",
      "       2072521  Acervo Circulante   \n",
      "\n",
      "                                                       biblioteca  \\\n",
      "2010.1 0                           Biblioteca Central Zila Mamede   \n",
      "       1                           Biblioteca Central Zila Mamede   \n",
      "       2                           Biblioteca Central Zila Mamede   \n",
      "       3                           Biblioteca Central Zila Mamede   \n",
      "       4                           Biblioteca Central Zila Mamede   \n",
      "...                                                           ...   \n",
      "       2072517                     Biblioteca Central Zila Mamede   \n",
      "       2072518                     Biblioteca Central Zila Mamede   \n",
      "       2072519  Biblioteca Setorial da Faculdade de Ciências d...   \n",
      "       2072520                     Biblioteca Central Zila Mamede   \n",
      "       2072521                     Biblioteca Central Zila Mamede   \n",
      "\n",
      "               status_material  localizacao  registro_sistema  \n",
      "2010.1 0               REGULAR          630              4225  \n",
      "       1               REGULAR          630              4225  \n",
      "       2               REGULAR          647             25009  \n",
      "       3               REGULAR          647             25009  \n",
      "       4               REGULAR          647             25009  \n",
      "...                        ...          ...               ...  \n",
      "       2072517         REGULAR          676            120845  \n",
      "       2072518         REGULAR          228            213248  \n",
      "       2072519         REGULAR          784            255835  \n",
      "       2072520         REGULAR          663             82178  \n",
      "       2072521         REGULAR          355            174443  \n",
      "\n",
      "[2072522 rows x 13 columns]\n"
     ]
    }
   ],
   "source": [
    "planilha_completa= emprestimos_complet_concat.merge(acervo) \n",
    "\n",
    "planilha_completa_concat= pd.concat([planilha_completa], keys=['2010.1', '2010.2', '2011.1', '2011.2', '2012.1', '2012.2', '2013.1',\n",
    "                                                            '2013.2', '2014.1', '2014.2', '2015.1', '2015.2', '2016.1', '2016.2', '2017.1', '2017.2',\n",
    "                                                            '2018.1', '2018.2', '2019.1', '2019.2', '2020.1', 'acervo'])\n",
    "\n",
    "print (planilha_completa_concat)"
   ]
  },
  {
   "cell_type": "code",
   "execution_count": 35,
   "id": "851668b1",
   "metadata": {},
   "outputs": [
    {
     "data": {
      "text/plain": [
       "<bound method Series.info of 2010.1  0          630\n",
       "        1          630\n",
       "        2          647\n",
       "        3          647\n",
       "        4          647\n",
       "                  ... \n",
       "        2072517    676\n",
       "        2072518    228\n",
       "        2072519    784\n",
       "        2072520    663\n",
       "        2072521    355\n",
       "Name: localizacao, Length: 2072522, dtype: int64>"
      ]
     },
     "execution_count": 35,
     "metadata": {},
     "output_type": "execute_result"
    }
   ],
   "source": [
    "# Coluna apresenta dados inteiros, preciso classificá-los:\n",
    "# 000 a 099: Generalidades. Ciência e conhecimento.\n",
    "# 100 a 199: Filosofia e psicologia.\n",
    "# 200 a 299: Religião.\n",
    "# 300 a 399: Ciências sociais.\n",
    "# 400 a 499: Classe vaga. Provisoriamente não ocupada.\n",
    "# 500 a 599: Matemática e ciências naturais.\n",
    "# 600 a 699: Ciências aplicadas.\n",
    "# 700 a 799: Belas artes.\n",
    "# 800 a 899: Linguagem. Língua. Linguística.\n",
    "# 900 a 999: Geografia. Biografia. História.\"\n",
    "# Preciso criar uma nova coluna com essas categorias\n",
    "planilha_completa_concat['localizacao'].info\n"
   ]
  },
  {
   "cell_type": "code",
   "execution_count": 9,
   "id": "13eb131b",
   "metadata": {},
   "outputs": [
    {
     "name": "stdout",
     "output_type": "stream",
     "text": [
      "<bound method NDFrame.head of                 localizacao              classe\n",
      "2010.1 0                630  Ciências Aplicadas\n",
      "       1                630  Ciências Aplicadas\n",
      "       2                647  Ciências Aplicadas\n",
      "       3                647  Ciências Aplicadas\n",
      "       4                647  Ciências Aplicadas\n",
      "...                     ...                 ...\n",
      "       2072517          676  Ciências Aplicadas\n",
      "       2072518          228            Religião\n",
      "       2072519          784         Belas Artes\n",
      "       2072520          663  Ciências Aplicadas\n",
      "       2072521          355    Ciências Sociais\n",
      "\n",
      "[2072522 rows x 2 columns]>\n"
     ]
    }
   ],
   "source": [
    "classe_geral= ['Generalidades, Ciência e Conhecimento', 'Filosofia e Psicologia', 'Religião', \n",
    "               'Ciências Sociais', 'Classe vaga. Provisoriamente não Ocupada',\n",
    "               'Matemática e Ciências Naturais', 'Ciências Aplicadas','Belas Artes',\n",
    "               'Linguagem, Língua e Linguística', 'Geografia, Biografia, História']\n",
    "\n",
    "faixas= [0, 99, 199, 299, 399, 499, 599, 699, 799, 899, 999]\n",
    "planilha_completa_concat[\"classe\"]= pd.cut(planilha_completa_concat['localizacao'], bins=faixas, labels= classe_geral)\n",
    "\n",
    "\n",
    "\n",
    "\n",
    "print(planilha_completa_concat[[\"localizacao\", \"classe\"]].head)"
   ]
  },
  {
   "cell_type": "code",
   "execution_count": 49,
   "id": "8e75d72b",
   "metadata": {},
   "outputs": [],
   "source": [
    "# Essa seria uma conferência boa para saber se os intervalos foram corretamente aplicados, apesar de que \n",
    "# não necessária quanto ao conhecimento do código\n",
    "# for index, row in planilha_completa_concat.iterrows():\n",
    "#     # Verificando se a localizacao está presente nos intervalos\n",
    "#     if row['localizacao'] % 100 == 99 or row['localizacao'] % 100 == 0:\n",
    "#         # Imprimindo localizacao e classe\n",
    "#         print(\"Localizacao:\", row['localizacao'], \"| Classe:\", row['classe'])"
   ]
  },
  {
   "cell_type": "code",
   "execution_count": null,
   "id": "3e9ece4e",
   "metadata": {},
   "outputs": [],
   "source": [
    "# Coluna Adicionada\n",
    "planilha_completa_concat.columns\n"
   ]
  },
  {
   "cell_type": "code",
   "execution_count": 10,
   "id": "1440bc8d",
   "metadata": {},
   "outputs": [
    {
     "data": {
      "text/plain": [
       "Index(['id_emprestimo', 'codigo_barras', 'data_renovacao', 'data_emprestimo',\n",
       "       'data_devolucao', 'matricula_ou_siape', 'tipo_vinculo_usuario',\n",
       "       'id_exemplar', 'colecao', 'biblioteca', 'status_material',\n",
       "       'localizacao', 'classe'],\n",
       "      dtype='object')"
      ]
     },
     "execution_count": 10,
     "metadata": {},
     "output_type": "execute_result"
    }
   ],
   "source": [
    "# Removendo coluna que atrapalha\n",
    "planilha_completa_concat.drop(columns=['registro_sistema'],inplace=True)\n",
    "planilha_completa_concat.columns"
   ]
  },
  {
   "cell_type": "code",
   "execution_count": 12,
   "id": "9518a622",
   "metadata": {},
   "outputs": [
    {
     "name": "stdout",
     "output_type": "stream",
     "text": [
      "float64\n"
     ]
    }
   ],
   "source": [
    "# Preiso modificar o type para String\n",
    "print (planilha_completa_concat['matricula_ou_siape'].dtype)"
   ]
  },
  {
   "cell_type": "code",
   "execution_count": 16,
   "id": "6bbd136d",
   "metadata": {},
   "outputs": [
    {
     "name": "stdout",
     "output_type": "stream",
     "text": [
      "object\n"
     ]
    }
   ],
   "source": [
    "planilha_completa_concat= planilha_completa_concat.astype({'matricula_ou_siape': str})\n",
    "print (planilha_completa_concat['matricula_ou_siape'].dtype)"
   ]
  }
 ],
 "metadata": {
  "kernelspec": {
   "display_name": "Python 3 (ipykernel)",
   "language": "python",
   "name": "python3"
  },
  "language_info": {
   "codemirror_mode": {
    "name": "ipython",
    "version": 3
   },
   "file_extension": ".py",
   "mimetype": "text/x-python",
   "name": "python",
   "nbconvert_exporter": "python",
   "pygments_lexer": "ipython3",
   "version": "3.11.3"
  }
 },
 "nbformat": 4,
 "nbformat_minor": 5
}
